{
 "cells": [
  {
   "cell_type": "markdown",
   "id": "30c19534-9785-4661-bf21-ce88537fca2a",
   "metadata": {},
   "source": [
    "# Emotions Rcognition AI Project\n"
   ]
  },
  {
   "cell_type": "markdown",
   "id": "03058d52-40d7-4c86-a49e-5c7a6946ce9a",
   "metadata": {},
   "source": [
    "## 사용할 모델 다운로드\n",
    "### 1. face detection adas 0001 다운로드"
   ]
  },
  {
   "cell_type": "markdown",
   "id": "3dd0f762-8308-43d1-8468-0a5a29cc4f25",
   "metadata": {},
   "source": [
    "## 필요 라이브러리 Import"
   ]
  },
  {
   "cell_type": "code",
   "execution_count": 1,
   "id": "ddf5f2d5-5a3a-4db0-850c-892910a7f259",
   "metadata": {},
   "outputs": [],
   "source": [
    "import openvino as ov\n",
    "import cv2\n",
    "import numpy as np\n",
    "\n",
    "import matplotlib.pyplot as plt\n",
    "from pathlib import Path"
   ]
  },
  {
   "cell_type": "markdown",
   "id": "8c9ca28a-c124-4f2c-8f18-c135ebb05e06",
   "metadata": {},
   "source": [
    "## Inference 할 device 확인"
   ]
  },
  {
   "cell_type": "code",
   "execution_count": 2,
   "id": "bd3c0d7c-3adb-4474-9006-cd6c464ef663",
   "metadata": {},
   "outputs": [
    {
     "data": {
      "text/plain": [
       "['CPU', 'GPU.0', 'GPU.1']"
      ]
     },
     "execution_count": 2,
     "metadata": {},
     "output_type": "execute_result"
    }
   ],
   "source": [
    "core = ov.Core()\n",
    "options=core.available_devices\n",
    "\n",
    "options"
   ]
  },
  {
   "cell_type": "markdown",
   "id": "c693443e-0a4c-4aae-b6b3-ade3288fa538",
   "metadata": {},
   "source": [
    "## load model"
   ]
  },
  {
   "cell_type": "code",
   "execution_count": 4,
   "id": "771ab046-bf8a-4bd2-ac38-d73037d3ac33",
   "metadata": {},
   "outputs": [
    {
     "name": "stdout",
     "output_type": "stream",
     "text": [
      "Input layer shape:  [1,3,384,672]\n",
      "Output layer shape:  [1,1,200,7]\n"
     ]
    }
   ],
   "source": [
    "model = core.read_model(model='models/face-detection-adas-0001.xml') #기존 모델 파일 로드\n",
    "face_model = core.compile_model(model=model, device_name='CPU') # 모델 연산 / cpu 사용\n",
    "\n",
    "face_input_layer = face_model.input() \n",
    "face_output_layer = face_model.output()\n",
    "\n",
    "print('Input layer shape: ', face_input_layer.shape)\n",
    "print('Output layer shape: ', face_output_layer.shape)"
   ]
  },
  {
   "cell_type": "code",
   "execution_count": 5,
   "id": "19672101-3271-419a-b70a-2060d6feccbd",
   "metadata": {},
   "outputs": [
    {
     "name": "stdout",
     "output_type": "stream",
     "text": [
      "Input layer shape:  [1,3,64,64]\n",
      "Output layer shape: [1,5,1,1]\n"
     ]
    }
   ],
   "source": [
    "model = core.read_model(model='./models/emotions-recognition-retail-0003.xml')\n",
    "emotion_model = core.compile_model(model=model, device_name=\"CPU\")\n",
    "\n",
    "emotion_input_layer = emotion_model.input(0)\n",
    "emotion_output_layer = emotion_model.output(0)\n",
    "\n",
    "print(\"Input layer shape: \", emotion_input_layer.shape)\n",
    "print(\"Output layer shape:\", emotion_output_layer.shape)"
   ]
  },
  {
   "cell_type": "markdown",
   "id": "2554070a-fc9a-4946-a2b3-14961bd30756",
   "metadata": {},
   "source": [
    "## load Image"
   ]
  },
  {
   "cell_type": "code",
   "execution_count": 22,
   "id": "f762e38a-c21f-48cc-a070-9170dd19cb2c",
   "metadata": {},
   "outputs": [],
   "source": [
    "frame = cv2.imread(\"images/emotions.jpg\")\n",
    "\n",
    "resized_frame = cv2.resize(src=frame, dsize=(672, 384)) \n",
    "transposed_frame = resized_frame.transpose(2, 0, 1)\n",
    "input_frame = np.expand_dims(transposed_frame, 0)"
   ]
  },
  {
   "cell_type": "markdown",
   "id": "915835a2-4d78-4ce8-9275-dd62cca9cbd8",
   "metadata": {},
   "source": [
    "## DrawBounging Boxes() 함수 만들기"
   ]
  },
  {
   "cell_type": "code",
   "execution_count": 23,
   "id": "ca141de8-3ec4-4a51-b5d0-3b9b888c5dbf",
   "metadata": {},
   "outputs": [],
   "source": [
    "def DrawBoundingBoxes(output, frame, conf=0.5):\n",
    "    boxes = []\n",
    "    canvas = frame.copy()\n",
    "    h,w,_ = canvas.shape \n",
    "\n",
    "    predictions = output[0][0]            # 하위 집합 데이터 프레임\n",
    "    confidence = predictions[:,2]         # conf 값 가져오기 [image_id, label, conf, x_min, y_min, x_max, y_max]\n",
    "\n",
    "    top_predictions = predictions[(confidence>conf)]         # 임계값보다 큰 conf 값을 가진 예측만 선택\n",
    "\n",
    "    for detection in top_predictions:\n",
    "        box = (detection[3:7] * np.array([w, h, w, h])).astype(\"int\") # 상자 위치 결정\n",
    "        (xmin, ymin, xmax, ymax) = box   # xmin, ymin, xmax, ymax에 상자 위치 값 지정\n",
    "        cv2.rectangle(frame, (xmin, ymin), (xmax, ymax), (0, 0, 255), 2)       # 사각형 그리기\n",
    "        boxes.append(box)     #이미지에 박스를 그린 얼굴의 위치 저장\n",
    "   \n",
    "    return boxes"
   ]
  },
  {
   "cell_type": "code",
   "execution_count": 24,
   "id": "41684b98-d87a-47b7-8a1b-14e42e082ad4",
   "metadata": {},
   "outputs": [],
   "source": [
    "def DrawText(output, frame, face_position):\n",
    "    # emotions 딕셔너리 생성\n",
    "    emotions = {\n",
    "        0:\"neutral\",\n",
    "        1:\"happy\",\n",
    "        2:\"sad\",\n",
    "        3:\"surprise\",\n",
    "        4:\"anger\"\n",
    "    }\n",
    "    # 딕셔너리 출력하기\n",
    "    #for key, value in emotions.items():\n",
    "    #    print(key, value, end='      ')\n",
    "    #print()\n",
    "        \n",
    "    predictions = output[0,:,0,0]              # 5개의 감정 예측값 저장\n",
    "    print(\"predictions : \" + str(predictions))\n",
    "    \n",
    "    topresult_index = np.argmax(predictions)   # 5개의 감정 예측값 중 가장 높은값의 위치 저장\n",
    "    #print(\"topresult_index : \" + str(topresult_index))\n",
    "    \n",
    "    emotion = emotions[topresult_index]        # emotions에서 topresult_index 값에 해당하는 감정 저장\n",
    "    #print(\"emotion : \" + emotion)\n",
    "    \n",
    "    cv2.putText(frame, emotion,                 # 예측한 감정값 이미지에 출력하기\n",
    "                (face_position[0],face_position[1]),    #xmin, ymin 값을 가져와 위치 설정\n",
    "                cv2.FONT_HERSHEY_SIMPLEX, 1, \n",
    "                (255, 0,0), 2)\n"
   ]
  },
  {
   "cell_type": "code",
   "execution_count": 25,
   "id": "24a56a4b-e21e-42b8-a74a-bcdbec57fd72",
   "metadata": {},
   "outputs": [],
   "source": [
    "face_output = face_model([input_frame])[face_output_layer]\n",
    "boxes = DrawBoundingBoxes(face_output, frame, conf=0.5)"
   ]
  },
  {
   "cell_type": "code",
   "execution_count": 26,
   "id": "2e360fdc-a95b-493e-8886-0c0c21bc8b2b",
   "metadata": {},
   "outputs": [
    {
     "name": "stdout",
     "output_type": "stream",
     "text": [
      "predictions : [0.47297916 0.00922722 0.03208939 0.12683502 0.35886925]\n",
      "predictions : [1.8001848e-04 1.5403839e-03 9.2567629e-01 2.4386642e-04 7.2359510e-02]\n",
      "predictions : [5.2245539e-03 7.2852598e-04 8.5551449e-04 9.9174678e-01 1.4446168e-03]\n",
      "predictions : [1.6682535e-01 8.2122606e-01 9.5314868e-03 1.8027051e-04 2.2368992e-03]\n",
      "predictions : [3.9358577e-04 9.7996449e-01 1.5637865e-02 2.5980247e-03 1.4059979e-03]\n",
      "predictions : [5.8812596e-04 5.6197669e-02 1.8172298e-04 9.1954255e-01 2.3489935e-02]\n",
      "predictions : [6.7086010e-05 9.9930334e-01 7.4545591e-05 4.5859793e-04 9.6366552e-05]\n",
      "predictions : [5.3750433e-04 1.4339949e-04 1.6935905e-02 4.8260146e-05 9.8233497e-01]\n",
      "predictions : [0.0036957  0.9840232  0.00687443 0.00285215 0.00255447]\n",
      "predictions : [1.05269134e-01 3.57439509e-04 7.96646699e-02 1.47449886e-04\n",
      " 8.14561188e-01]\n",
      "predictions : [4.2153094e-03 8.6598024e-02 1.0233668e-04 8.9234114e-01 1.6743178e-02]\n",
      "predictions : [1.6983317e-03 5.4251018e-04 3.2775686e-03 1.5957810e-05 9.9446565e-01]\n",
      "predictions : [7.5116479e-03 9.7150996e-04 2.6186477e-02 7.3288672e-04 9.6459752e-01]\n",
      "predictions : [0.04095535 0.31551912 0.01228293 0.5972603  0.03398231]\n",
      "predictions : [9.0727163e-03 1.7114518e-04 1.2362373e-02 3.9072617e-04 9.7800308e-01]\n",
      "predictions : [0.00307399 0.00499585 0.00100439 0.98208445 0.00884124]\n",
      "predictions : [0.00098126 0.09196732 0.3775604  0.03422426 0.4952668 ]\n",
      "predictions : [0.53036356 0.41939262 0.02257543 0.00834635 0.01932197]\n",
      "predictions : [0.19252352 0.00142314 0.5882308  0.00314611 0.21467641]\n",
      "predictions : [1.7553858e-02 8.2988333e-04 5.7746526e-03 5.6383487e-05 9.7578526e-01]\n",
      "predictions : [0.4525793  0.27471527 0.02373281 0.00209387 0.24687876]\n",
      "predictions : [5.3919479e-04 2.9669025e-05 1.2631065e-02 5.0104809e-05 9.8674995e-01]\n",
      "predictions : [4.3208234e-04 2.5644521e-03 4.9436468e-01 6.1237300e-04 5.0202638e-01]\n",
      "predictions : [4.6189222e-03 1.6789339e-02 6.8225247e-01 4.7055082e-04 2.9586872e-01]\n",
      "predictions : [0.00545334 0.7533377  0.04306281 0.05437875 0.14376746]\n"
     ]
    }
   ],
   "source": [
    "if boxes is not None:\n",
    "    \n",
    "    for box in boxes:          #boxes에 저장된 얼굴의 위치들을 하나씩 box에 전달\n",
    "    \n",
    "        xmin, ymin, xmax, ymax = box      #box에 저장된 좌표 저장\n",
    "        emotion_input = frame[ymin:ymax,xmin:xmax]         #이미지에서 해당 얼굴 위치를 찾아 저장\n",
    "        \n",
    "        # 감정 인식 모델을 사용하기 위해 이미지 전처리\n",
    "        # Input layer shape:  [1,3,64,64]\n",
    "        resized_image = cv2.resize(src=emotion_input, dsize=(64, 64))      #이미지 사이즈 변경  (64,64,3)\n",
    "        transposed_image = resized_image.transpose(2, 0, 1)                #shape 위치 변경    (3,64,64)\n",
    "        input_image = np.expand_dims(transposed_image, 0)                  #차원 확장 (1,3,64,64)\n",
    "\n",
    "        emotion_output = emotion_model([input_image])[emotion_output_layer]  # 감정 추론\n",
    "        DrawText(emotion_output, frame, box)   # 추론의 결과값 이미지에 출력하기"
   ]
  },
  {
   "cell_type": "code",
   "execution_count": 28,
   "id": "1f058001-58ed-4702-8603-88f0955bcd04",
   "metadata": {},
   "outputs": [],
   "source": [
    "cv2.imshow(\"emotion-recognition\", frame)\n",
    "\n",
    "cv2.waitKey(0)\n",
    "cv2.destroyAllWindows()"
   ]
  },
  {
   "cell_type": "markdown",
   "id": "cfe1db9e-6310-4f29-b98c-cf42aabeb7e9",
   "metadata": {},
   "source": [
    "## background"
   ]
  },
  {
   "cell_type": "code",
   "execution_count": 33,
   "id": "ee78a3bf-3ae4-4de0-bf10-7e94def8c052",
   "metadata": {},
   "outputs": [],
   "source": [
    "def AddBackground(frame, bg):\n",
    "\n",
    "    frame_h, frame_w = frame.shape[0], frame.shape[1]\n",
    "    new_h = 500\n",
    "    new_w = int((new_h/frame_h)*frame_w)\n",
    "    frame_resize = cv2.resize(frame, (new_w, new_h))\n",
    "\n",
    "    xmax = bg.shape[1] - 400\n",
    "    ymax = bg.shape[0] - 175\n",
    "    xmin = xmax - new_w\n",
    "    ymin = ymax - new_h\n",
    "\n",
    "    bg[ymin:ymax, xmin:xmax] = frame_resize\n",
    "\n",
    "    return bg"
   ]
  },
  {
   "cell_type": "code",
   "execution_count": 35,
   "id": "687a4992-7058-4f3c-85ef-acb5cc5a4641",
   "metadata": {},
   "outputs": [],
   "source": [
    "face_output = face_model([input_frame])[face_output_layer]\n",
    "boxes = DrawBoundingBoxes(face_output, frame, conf=0.5)"
   ]
  },
  {
   "cell_type": "code",
   "execution_count": 36,
   "id": "f96e68d0-2dbc-488e-acbe-bb5c1f16f86b",
   "metadata": {},
   "outputs": [],
   "source": [
    "background = './images/Background2.jpg'\n",
    "bg = cv2.imread(background)\n",
    "\n",
    "deployment = AddBackground(frame, bg)\n",
    "\n",
    "cv2.imshow(\"bg\", deployment)\n",
    "cv2.waitKey(0)\n",
    "cv2.destroyAllWindows()"
   ]
  },
  {
   "cell_type": "markdown",
   "id": "8fdf5f25-c15c-450b-8a41-72c67d49acb0",
   "metadata": {},
   "source": [
    "## 웹캠을 활용한 영상인식"
   ]
  },
  {
   "cell_type": "code",
   "execution_count": 38,
   "id": "15b97764-ca45-4987-bda8-e32f89bb340b",
   "metadata": {},
   "outputs": [],
   "source": [
    "camera = cv2.VideoCapture(0) #create a VideoCapture object with the 'first' camera (your webcam)\n",
    "background = \"./images/Background2.jpg\"\n",
    "bg = cv2.imread(background)\n",
    "\n",
    "while(True):\n",
    "    ret, frame = camera.read()             # Capture frame by frame      \n",
    "    if ret == False:\n",
    "        break\n",
    "    \n",
    "    resized_frame = cv2.resize(src=frame, dsize=(672, 384)) \n",
    "    transposed_frame = resized_frame.transpose(2, 0, 1)\n",
    "    input_frame = np.expand_dims(transposed_frame, 0)    \n",
    "    \n",
    "    face_output = face_model([input_frame])[face_output_layer]\n",
    "    \n",
    "    boxes = DrawBoundingBoxes(face_output, frame, conf=0.5)\n",
    "    \n",
    "    if boxes is not None:\n",
    "    \n",
    "        for box in boxes:          #boxes에 저장된 얼굴의 위치들을 하나씩 box에 전달\n",
    "    \n",
    "            xmin, ymin, xmax, ymax = box      #box에 저장된 좌표 저장\n",
    "            emotion_input = frame[ymin:ymax,xmin:xmax]         #이미지에서 해당 얼굴 위치를 찾아 저장\n",
    "        \n",
    "            # 감정 인식 모델을 사용하기 위해 이미지 전처리\n",
    "            # Input layer shape:  [1,3,64,64]\n",
    "            resized_image = cv2.resize(src=emotion_input, dsize=(64, 64))      #이미지 사이즈 변경  (64,64,3)\n",
    "            transposed_image = resized_image.transpose(2, 0, 1)                #shape 위치 변경    (3,64,64)\n",
    "            input_image = np.expand_dims(transposed_image, 0)                  #차원 확장 (1,3,64,64)\n",
    "\n",
    "            emotion_output = emotion_model([input_image])[emotion_output_layer]  # 감정 추론\n",
    "            DrawText(emotion_output, frame, box)   # 추론의 결과값 이미지에 출력하기\n",
    "    \n",
    "    deployment = AddBackground(frame, bg)\n",
    "    \n",
    "    cv2.imshow('Press Spacebar to Exit', deployment)\n",
    "\n",
    "    if cv2.waitKey(1) & 0xFF == ord(' '):  # Stop if spacebar is detected\n",
    "        break\n",
    "\n",
    "camera.release()                           # Cleanup after spacebar is detected.\n",
    "cv2.destroyAllWindows()"
   ]
  },
  {
   "cell_type": "code",
   "execution_count": null,
   "id": "8ed05f29-dad6-4d2c-a6d5-e397006ec133",
   "metadata": {},
   "outputs": [],
   "source": []
  }
 ],
 "metadata": {
  "kernelspec": {
   "display_name": "Python 3 (ipykernel)",
   "language": "python",
   "name": "python3"
  },
  "language_info": {
   "codemirror_mode": {
    "name": "ipython",
    "version": 3
   },
   "file_extension": ".py",
   "mimetype": "text/x-python",
   "name": "python",
   "nbconvert_exporter": "python",
   "pygments_lexer": "ipython3",
   "version": "3.11.8"
  }
 },
 "nbformat": 4,
 "nbformat_minor": 5
}
